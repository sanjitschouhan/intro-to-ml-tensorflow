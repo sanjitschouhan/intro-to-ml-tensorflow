{
  "nbformat": 4,
  "nbformat_minor": 0,
  "metadata": {
    "accelerator": "GPU",
    "colab": {
      "name": "Part 6 - Saving and Loading Models.ipynb",
      "provenance": [],
      "collapsed_sections": [],
      "toc_visible": true
    },
    "kernelspec": {
      "display_name": "Python 3",
      "language": "python",
      "name": "python3"
    },
    "language_info": {
      "codemirror_mode": {
        "name": "ipython",
        "version": 3
      },
      "file_extension": ".py",
      "mimetype": "text/x-python",
      "name": "python",
      "nbconvert_exporter": "python",
      "pygments_lexer": "ipython3",
      "version": "3.6.8"
    }
  },
  "cells": [
    {
      "cell_type": "markdown",
      "metadata": {
        "colab_type": "text",
        "id": "k7sePAkWpLJV"
      },
      "source": [
        "# Saving and Loading Models\n",
        "\n",
        "In this notebook, we'll see how to save and load models with TensorFlow. This is important because you'll often want to load previously trained models to use in making predictions or to continue training on new data."
      ]
    },
    {
      "cell_type": "markdown",
      "metadata": {
        "colab_type": "text",
        "id": "tD856SqhH4JK"
      },
      "source": [
        "## Import Resources"
      ]
    },
    {
      "cell_type": "code",
      "metadata": {
        "id": "v_Zuz5ac1XYC",
        "colab_type": "code",
        "colab": {
          "base_uri": "https://localhost:8080/",
          "height": 402
        },
        "outputId": "395b0353-68ed-4698-835d-b4865acf1635"
      },
      "source": [
        "!pip install tensorflow-datasets==1.2.0"
      ],
      "execution_count": 1,
      "outputs": [
        {
          "output_type": "stream",
          "text": [
            "Requirement already satisfied: tensorflow-datasets==1.2.0 in /usr/local/lib/python3.6/dist-packages (1.2.0)\n",
            "Requirement already satisfied: psutil in /usr/local/lib/python3.6/dist-packages (from tensorflow-datasets==1.2.0) (5.4.8)\n",
            "Requirement already satisfied: termcolor in /usr/local/lib/python3.6/dist-packages (from tensorflow-datasets==1.2.0) (1.1.0)\n",
            "Requirement already satisfied: requests>=2.19.0 in /usr/local/lib/python3.6/dist-packages (from tensorflow-datasets==1.2.0) (2.23.0)\n",
            "Requirement already satisfied: six in /usr/local/lib/python3.6/dist-packages (from tensorflow-datasets==1.2.0) (1.15.0)\n",
            "Requirement already satisfied: protobuf>=3.6.1 in /usr/local/lib/python3.6/dist-packages (from tensorflow-datasets==1.2.0) (3.12.2)\n",
            "Requirement already satisfied: tqdm in /usr/local/lib/python3.6/dist-packages (from tensorflow-datasets==1.2.0) (4.41.1)\n",
            "Requirement already satisfied: attrs in /usr/local/lib/python3.6/dist-packages (from tensorflow-datasets==1.2.0) (19.3.0)\n",
            "Requirement already satisfied: dill in /usr/local/lib/python3.6/dist-packages (from tensorflow-datasets==1.2.0) (0.3.2)\n",
            "Requirement already satisfied: promise in /usr/local/lib/python3.6/dist-packages (from tensorflow-datasets==1.2.0) (2.3)\n",
            "Requirement already satisfied: numpy in /usr/local/lib/python3.6/dist-packages (from tensorflow-datasets==1.2.0) (1.18.5)\n",
            "Requirement already satisfied: tensorflow-metadata in /usr/local/lib/python3.6/dist-packages (from tensorflow-datasets==1.2.0) (0.22.2)\n",
            "Requirement already satisfied: wrapt in /usr/local/lib/python3.6/dist-packages (from tensorflow-datasets==1.2.0) (1.12.1)\n",
            "Requirement already satisfied: future in /usr/local/lib/python3.6/dist-packages (from tensorflow-datasets==1.2.0) (0.16.0)\n",
            "Requirement already satisfied: absl-py in /usr/local/lib/python3.6/dist-packages (from tensorflow-datasets==1.2.0) (0.9.0)\n",
            "Requirement already satisfied: urllib3!=1.25.0,!=1.25.1,<1.26,>=1.21.1 in /usr/local/lib/python3.6/dist-packages (from requests>=2.19.0->tensorflow-datasets==1.2.0) (1.24.3)\n",
            "Requirement already satisfied: idna<3,>=2.5 in /usr/local/lib/python3.6/dist-packages (from requests>=2.19.0->tensorflow-datasets==1.2.0) (2.10)\n",
            "Requirement already satisfied: certifi>=2017.4.17 in /usr/local/lib/python3.6/dist-packages (from requests>=2.19.0->tensorflow-datasets==1.2.0) (2020.6.20)\n",
            "Requirement already satisfied: chardet<4,>=3.0.2 in /usr/local/lib/python3.6/dist-packages (from requests>=2.19.0->tensorflow-datasets==1.2.0) (3.0.4)\n",
            "Requirement already satisfied: setuptools in /usr/local/lib/python3.6/dist-packages (from protobuf>=3.6.1->tensorflow-datasets==1.2.0) (49.1.0)\n",
            "Requirement already satisfied: googleapis-common-protos in /usr/local/lib/python3.6/dist-packages (from tensorflow-metadata->tensorflow-datasets==1.2.0) (1.52.0)\n"
          ],
          "name": "stdout"
        }
      ]
    },
    {
      "cell_type": "code",
      "metadata": {
        "id": "FekTjheW070N",
        "colab_type": "code",
        "colab": {}
      },
      "source": [
        "import warnings\n",
        "warnings.filterwarnings('ignore')"
      ],
      "execution_count": 2,
      "outputs": []
    },
    {
      "cell_type": "code",
      "metadata": {
        "colab_type": "code",
        "id": "Hsu5egUUqPg9",
        "colab": {}
      },
      "source": [
        "%matplotlib inline\n",
        "%config InlineBackend.figure_format = 'retina'\n",
        "\n",
        "import time\n",
        "import numpy as np\n",
        "import matplotlib.pyplot as plt\n",
        "\n",
        "import tensorflow as tf\n",
        "import tensorflow_datasets as tfds\n",
        "tfds.disable_progress_bar()"
      ],
      "execution_count": 3,
      "outputs": []
    },
    {
      "cell_type": "code",
      "metadata": {
        "id": "M_bKpcbZ0703",
        "colab_type": "code",
        "colab": {}
      },
      "source": [
        "import logging\n",
        "logger = tf.get_logger()\n",
        "logger.setLevel(logging.ERROR)"
      ],
      "execution_count": 4,
      "outputs": []
    },
    {
      "cell_type": "code",
      "metadata": {
        "colab_type": "code",
        "id": "BqsrWYDKp4Fd",
        "colab": {
          "base_uri": "https://localhost:8080/",
          "height": 86
        },
        "outputId": "a90c8a38-59d5-4de7-c796-b43fdad85221"
      },
      "source": [
        "print('Using:')\n",
        "print('\\t\\u2022 TensorFlow version:', tf.__version__)\n",
        "print('\\t\\u2022 tf.keras version:', tf.keras.__version__)\n",
        "print('\\t\\u2022 Running on GPU' if tf.test.is_gpu_available() else '\\t\\u2022 GPU device not found. Running on CPU')"
      ],
      "execution_count": 5,
      "outputs": [
        {
          "output_type": "stream",
          "text": [
            "Using:\n",
            "\t• TensorFlow version: 2.2.0\n",
            "\t• tf.keras version: 2.3.0-tf\n",
            "\t• Running on GPU\n"
          ],
          "name": "stdout"
        }
      ]
    },
    {
      "cell_type": "markdown",
      "metadata": {
        "colab_type": "text",
        "id": "dAe81nXoICzC"
      },
      "source": [
        "## Load the Dataset"
      ]
    },
    {
      "cell_type": "code",
      "metadata": {
        "colab_type": "code",
        "id": "bxcg_ZbuLnM3",
        "colab": {
          "base_uri": "https://localhost:8080/",
          "height": 89
        },
        "outputId": "8c0351cb-016e-4ae9-c5a1-4d7ab6df54e0"
      },
      "source": [
        "train_split = 60\n",
        "test_val_split = 20\n",
        "\n",
        "splits = tfds.Split.ALL.subsplit([train_split, test_val_split, test_val_split])\n",
        "\n",
        "dataset, dataset_info = tfds.load('fashion_mnist', split=splits, as_supervised=True, with_info=True)\n",
        "\n",
        "training_set, validation_set, test_set = dataset"
      ],
      "execution_count": 6,
      "outputs": [
        {
          "output_type": "stream",
          "text": [
            "WARNING:absl:Found a different version 3.0.0 of dataset fashion_mnist in data_dir /root/tensorflow_datasets. Using currently defined version 1.0.0.\n"
          ],
          "name": "stderr"
        },
        {
          "output_type": "stream",
          "text": [
            "\u001b[1mDownloading and preparing dataset fashion_mnist (29.45 MiB) to /root/tensorflow_datasets/fashion_mnist/1.0.0...\u001b[0m\n",
            "\u001b[1mDataset fashion_mnist downloaded and prepared to /root/tensorflow_datasets/fashion_mnist/1.0.0. Subsequent calls will reuse this data.\u001b[0m\n"
          ],
          "name": "stdout"
        }
      ]
    },
    {
      "cell_type": "markdown",
      "metadata": {
        "colab_type": "text",
        "id": "z1WhOLC7Ii3D"
      },
      "source": [
        "## Explore the Dataset"
      ]
    },
    {
      "cell_type": "code",
      "metadata": {
        "colab_type": "code",
        "id": "9i2586KjI4QM",
        "colab": {
          "base_uri": "https://localhost:8080/",
          "height": 69
        },
        "outputId": "13f7aa2e-cb72-46d3-8135-6ca49701c0a0"
      },
      "source": [
        "total_examples = dataset_info.splits['train'].num_examples + dataset_info.splits['test'].num_examples\n",
        "\n",
        "num_training_examples = (total_examples * train_split) // 100\n",
        "num_validation_examples = (total_examples * test_val_split) // 100\n",
        "num_test_examples = num_validation_examples\n",
        "\n",
        "print('There are {:,} images in the training set'.format(num_training_examples))\n",
        "print('There are {:,} images in the validation set'.format(num_validation_examples))\n",
        "print('There are {:,} images in the test set'.format(num_test_examples))"
      ],
      "execution_count": 7,
      "outputs": [
        {
          "output_type": "stream",
          "text": [
            "There are 42,000 images in the training set\n",
            "There are 14,000 images in the validation set\n",
            "There are 14,000 images in the test set\n"
          ],
          "name": "stdout"
        }
      ]
    },
    {
      "cell_type": "code",
      "metadata": {
        "colab_type": "code",
        "id": "RLMJCpppq43U",
        "colab": {}
      },
      "source": [
        "class_names = ['T-shirt/top', 'Trouser', 'Pullover', 'Dress', 'Coat', \n",
        "               'Sandal',      'Shirt',   'Sneaker',  'Bag',   'Ankle boot']"
      ],
      "execution_count": 8,
      "outputs": []
    },
    {
      "cell_type": "code",
      "metadata": {
        "colab_type": "code",
        "id": "PeU9nb_xqW98",
        "colab": {
          "base_uri": "https://localhost:8080/",
          "height": 280
        },
        "outputId": "70372845-b930-45fe-b450-b9b0397c9b31"
      },
      "source": [
        "for image, label in training_set.take(1):\n",
        "    image = image.numpy().squeeze()\n",
        "    label = label.numpy()\n",
        "\n",
        "plt.imshow(image, cmap=plt.cm.binary)\n",
        "plt.title(class_names[label])\n",
        "plt.colorbar()\n",
        "plt.show()"
      ],
      "execution_count": 9,
      "outputs": [
        {
          "output_type": "display_data",
          "data": {
            "image/png": "[encoded data removed]",
            "text/plain": [
              "<Figure size 432x288 with 2 Axes>"
            ]
          },
          "metadata": {
            "tags": [],
            "image/png": {
              "width": 305,
              "height": 263
            },
            "needs_background": "light"
          }
        }
      ]
    },
    {
      "cell_type": "markdown",
      "metadata": {
        "colab_type": "text",
        "id": "k5rUDqxBIt5N"
      },
      "source": [
        "## Create Pipeline"
      ]
    },
    {
      "cell_type": "code",
      "metadata": {
        "colab_type": "code",
        "id": "Ec3uphcyci3c",
        "colab": {}
      },
      "source": [
        "def normalize(image, label):\n",
        "    image = tf.cast(image, tf.float32)\n",
        "    image /= 255\n",
        "    return image, label\n",
        "\n",
        "batch_size = 64\n",
        "\n",
        "training_batches = training_set.cache().shuffle(num_training_examples//4).batch(batch_size).map(normalize).prefetch(1)\n",
        "validation_batches = validation_set.cache().batch(batch_size).map(normalize).prefetch(1)\n",
        "testing_batches = test_set.cache().batch(batch_size).map(normalize).prefetch(1)"
      ],
      "execution_count": 10,
      "outputs": []
    },
    {
      "cell_type": "markdown",
      "metadata": {
        "colab_type": "text",
        "id": "ySQuJ-iPqNoR"
      },
      "source": [
        "## Build and Train the Model\n",
        "\n",
        "Here we'll build and compile our model as usual."
      ]
    },
    {
      "cell_type": "code",
      "metadata": {
        "colab_type": "code",
        "id": "47Vnu0KJMqwc",
        "colab": {
          "base_uri": "https://localhost:8080/",
          "height": 434
        },
        "outputId": "56cb7782-68de-48fb-a0ba-7dee8ff77216"
      },
      "source": [
        "layer_neurons = [512, 256, 128]\n",
        "\n",
        "dropout_rate = 0.5\n",
        "\n",
        "model = tf.keras.Sequential()\n",
        "\n",
        "model.add(tf.keras.layers.Flatten(input_shape=(28,28,1)))\n",
        "\n",
        "for neurons in layer_neurons:\n",
        "    model.add(tf.keras.layers.Dense(neurons, activation = 'relu'))\n",
        "    model.add(tf.keras.layers.Dropout(dropout_rate))\n",
        "\n",
        "model.add(tf.keras.layers.Dense(10, activation = 'softmax'))\n",
        "\n",
        "model.summary()"
      ],
      "execution_count": 11,
      "outputs": [
        {
          "output_type": "stream",
          "text": [
            "Model: \"sequential\"\n",
            "_________________________________________________________________\n",
            "Layer (type)                 Output Shape              Param #   \n",
            "=================================================================\n",
            "flatten (Flatten)            (None, 784)               0         \n",
            "_________________________________________________________________\n",
            "dense (Dense)                (None, 512)               401920    \n",
            "_________________________________________________________________\n",
            "dropout (Dropout)            (None, 512)               0         \n",
            "_________________________________________________________________\n",
            "dense_1 (Dense)              (None, 256)               131328    \n",
            "_________________________________________________________________\n",
            "dropout_1 (Dropout)          (None, 256)               0         \n",
            "_________________________________________________________________\n",
            "dense_2 (Dense)              (None, 128)               32896     \n",
            "_________________________________________________________________\n",
            "dropout_2 (Dropout)          (None, 128)               0         \n",
            "_________________________________________________________________\n",
            "dense_3 (Dense)              (None, 10)                1290      \n",
            "=================================================================\n",
            "Total params: 567,434\n",
            "Trainable params: 567,434\n",
            "Non-trainable params: 0\n",
            "_________________________________________________________________\n"
          ],
          "name": "stdout"
        }
      ]
    },
    {
      "cell_type": "code",
      "metadata": {
        "colab_type": "code",
        "id": "1qLJ-cAwnmFD",
        "colab": {
          "base_uri": "https://localhost:8080/",
          "height": 176
        },
        "outputId": "81283c2d-de47-44c7-b17d-f952aa665a01"
      },
      "source": [
        "model.compile(optimizer='adam',\n",
        "              loss='sparse_categorical_crossentropy',\n",
        "              metrics=['accuracy'])\n",
        "\n",
        "EPOCHS = 4\n",
        "\n",
        "history = model.fit(training_batches,\n",
        "                    epochs=EPOCHS,\n",
        "                    validation_data=validation_batches)"
      ],
      "execution_count": 12,
      "outputs": [
        {
          "output_type": "stream",
          "text": [
            "Epoch 1/4\n",
            "657/657 [==============================] - 16s 25ms/step - loss: 0.8540 - accuracy: 0.6895 - val_loss: 0.4914 - val_accuracy: 0.8239\n",
            "Epoch 2/4\n",
            "657/657 [==============================] - 3s 5ms/step - loss: 0.5655 - accuracy: 0.8000 - val_loss: 0.4528 - val_accuracy: 0.8401\n",
            "Epoch 3/4\n",
            "657/657 [==============================] - 3s 5ms/step - loss: 0.5194 - accuracy: 0.8173 - val_loss: 0.4321 - val_accuracy: 0.8413\n",
            "Epoch 4/4\n",
            "657/657 [==============================] - 3s 5ms/step - loss: 0.4930 - accuracy: 0.8256 - val_loss: 0.4100 - val_accuracy: 0.8501\n"
          ],
          "name": "stdout"
        }
      ]
    },
    {
      "cell_type": "markdown",
      "metadata": {
        "colab_type": "text",
        "id": "jseIvfe2xb56"
      },
      "source": [
        "## Saving and Loading Models\n",
        "\n",
        "In TensorFlow we can save our trained models in different formats. Here we will see how to save our models in TensorFlow's SavedModel format and as HDF5 files, which is the format used by Keras models.\n",
        "\n",
        "### Saving and Loading Models in HDF5 Format\n",
        "\n",
        "To save our models in the format used by Keras models we use the `.save(filepath)` method. For example, to save a model called `my_model` in the current working directory with the name `test_model` we use:\n",
        "\n",
        "```python\n",
        "my_model.save('./test_model.h5')\n",
        "```\n",
        "\n",
        "It's important to note that we have to provide the `.h5` extension to the `filepath` in order the tell `tf.keras` to save our model as an HDF5 file. \n",
        "\n",
        "The above command saves our model into a single HDF5 file that will contain:\n",
        "\n",
        "* The model's architecture.\n",
        "* The model's weight values which were learned during training.\n",
        "* The model's training configuration, which corresponds to the parameters you passed to the `compile` method.\n",
        "* The optimizer and its state. This allows you to resume training exactly where you left off.\n",
        "\n",
        "\n",
        "In the cell below we save our trained `model` as an HDF5 file. The name of our HDF5 will correspond to the current time stamp. This is useful if you are saving many models and want each of them to have a unique name. By default the `.save()` method will **silently** overwrite any existing file at the target location with the same name. If we want `tf.keras` to provide us with a manual prompt to whether overwrite files with the same name, you can set the argument `overwrite=False` in the `.save()` method."
      ]
    },
    {
      "cell_type": "code",
      "metadata": {
        "colab_type": "code",
        "id": "G1dOvNRvrhNa",
        "colab": {}
      },
      "source": [
        "t = time.time()\n",
        "\n",
        "saved_keras_model_filepath = './{}.h5'.format(int(t))\n",
        "\n",
        "model.save(saved_keras_model_filepath)"
      ],
      "execution_count": 13,
      "outputs": []
    },
    {
      "cell_type": "markdown",
      "metadata": {
        "colab_type": "text",
        "id": "lGNRBb1puSRg"
      },
      "source": [
        "Once a model has been saved, we can use `tf.keras.models.load_model(filepath)` to re-load our model. This command will also compile our model automatically using the saved training configuration, unless the model was never compiled in the first place."
      ]
    },
    {
      "cell_type": "code",
      "metadata": {
        "colab_type": "code",
        "id": "akaAVE2js5d0",
        "colab": {
          "base_uri": "https://localhost:8080/",
          "height": 434
        },
        "outputId": "fe812271-4440-4490-9f2d-2500a73dccd5"
      },
      "source": [
        "reloaded_keras_model = tf.keras.models.load_model(saved_keras_model_filepath)\n",
        "\n",
        "reloaded_keras_model.summary()"
      ],
      "execution_count": 14,
      "outputs": [
        {
          "output_type": "stream",
          "text": [
            "Model: \"sequential\"\n",
            "_________________________________________________________________\n",
            "Layer (type)                 Output Shape              Param #   \n",
            "=================================================================\n",
            "flatten (Flatten)            (None, 784)               0         \n",
            "_________________________________________________________________\n",
            "dense (Dense)                (None, 512)               401920    \n",
            "_________________________________________________________________\n",
            "dropout (Dropout)            (None, 512)               0         \n",
            "_________________________________________________________________\n",
            "dense_1 (Dense)              (None, 256)               131328    \n",
            "_________________________________________________________________\n",
            "dropout_1 (Dropout)          (None, 256)               0         \n",
            "_________________________________________________________________\n",
            "dense_2 (Dense)              (None, 128)               32896     \n",
            "_________________________________________________________________\n",
            "dropout_2 (Dropout)          (None, 128)               0         \n",
            "_________________________________________________________________\n",
            "dense_3 (Dense)              (None, 10)                1290      \n",
            "=================================================================\n",
            "Total params: 567,434\n",
            "Trainable params: 567,434\n",
            "Non-trainable params: 0\n",
            "_________________________________________________________________\n"
          ],
          "name": "stdout"
        }
      ]
    },
    {
      "cell_type": "markdown",
      "metadata": {
        "colab_type": "text",
        "id": "xWihP1oMjNeF"
      },
      "source": [
        "As we can see the re-loaded model has the same architecture as our original model, as it should be. At this point, since we haven't done anything new to the re-loaded model, then both the `reloaded_keras_model` our original `model` should be identical copies. Therefore, they should make the same predictions on the same images. Let's check that this is true:"
      ]
    },
    {
      "cell_type": "code",
      "metadata": {
        "colab_type": "code",
        "id": "gLQsw7QVkElc",
        "colab": {
          "base_uri": "https://localhost:8080/",
          "height": 34
        },
        "outputId": "e27c734f-77aa-426b-a2c4-b89d7d151d93"
      },
      "source": [
        "for image_batch, label_batch in testing_batches.take(1):\n",
        "    prediction_1 = model.predict(image_batch)\n",
        "    prediction_2 = reloaded_keras_model.predict(image_batch)\n",
        "    difference = np.abs(prediction_1 - prediction_2)\n",
        "    print(difference.max())"
      ],
      "execution_count": 15,
      "outputs": [
        {
          "output_type": "stream",
          "text": [
            "0.0\n"
          ],
          "name": "stdout"
        }
      ]
    },
    {
      "cell_type": "markdown",
      "metadata": {
        "colab_type": "text",
        "id": "K-dDOY0BmYhs"
      },
      "source": [
        "As we can see, the result is 0.0, which indicates that both models made the same predictions on the same images."
      ]
    },
    {
      "cell_type": "markdown",
      "metadata": {
        "colab_type": "text",
        "id": "lxHdz18pQUNV"
      },
      "source": [
        "### Saving and Loading TensorFlow SavedModels"
      ]
    },
    {
      "cell_type": "markdown",
      "metadata": {
        "colab_type": "text",
        "id": "OGtK83g2vVki"
      },
      "source": [
        "To export our models to the TensorFlow **SavedModel** format, we use the `tf.saved_model.save(model, export_dir)` function. For example, to save a model called `my_model` in a folder called `saved_models` located in the current working directory we use:\n",
        "\n",
        "```python\n",
        "tf.saved_model.save(my_model, './saved_models')\n",
        "```\n",
        "\n",
        "It's important to note that here we have to provide the path to the directory where we want to save our model, **NOT** the name of the file. This is because SavedModels are not saved in a single file. Rather, when you save your model as a SavedModel, `the tf.saved_model.save()` function will create an `assets` folder, a `variables` folder, and a `saved_model.pb` file inside the directory you provided.\n",
        "\n",
        "The SavedModel files that are created contain:\n",
        "\n",
        "* A TensorFlow checkpoint containing the model weights.\n",
        "* A SavedModel proto containing the underlying TensorFlow graph. Separate graphs are saved for prediction (serving), training, and evaluation. If the model wasn't compiled before, then only the inference graph gets exported.\n",
        "* The model's architecture configuration if available.\n",
        "\n",
        "The SavedModel is a standalone serialization format for TensorFlow objects, supported by TensorFlow serving as well as TensorFlow implementations other than Python. It does not require the original model building code to run, which makes it useful for sharing or deploying in different platforms, such as mobile and embedded devices (with TensorFlow Lite), servers (with TensorFlow Serving), and even web browsers (with TensorFlow.js).\n",
        "\n",
        "In the cell below we save our trained model as a SavedModel. The name of the folder where we are going to save our model will correspond to the current time stamp. Again, this is useful if you are saving many models and want each of them to be saved in a unique directory."
      ]
    },
    {
      "cell_type": "code",
      "metadata": {
        "colab_type": "code",
        "collapsed": true,
        "id": "V2C0F3luxzlI",
        "colab": {}
      },
      "source": [
        "t = time.time()\n",
        "\n",
        "savedModel_directory = './{}'.format(int(t))\n",
        "\n",
        "tf.saved_model.save(model, savedModel_directory)"
      ],
      "execution_count": 16,
      "outputs": []
    },
    {
      "cell_type": "markdown",
      "metadata": {
        "colab_type": "text",
        "id": "DBY1j0QEyjPi"
      },
      "source": [
        "Once a model has been saved as a SavedModel, we can use `tf.saved_model.load(export_dir)` to re-load our model. "
      ]
    },
    {
      "cell_type": "code",
      "metadata": {
        "colab_type": "code",
        "id": "rRx2y2M4AtKl",
        "colab": {}
      },
      "source": [
        "reloaded_SavedModel = tf.saved_model.load(savedModel_directory)"
      ],
      "execution_count": 17,
      "outputs": []
    },
    {
      "cell_type": "markdown",
      "metadata": {
        "colab_type": "text",
        "id": "wJwmzT1gAwew"
      },
      "source": [
        "It's important to note that the object returned by `tf.saved_model.load` is **NOT** a Keras object. Therefore, it doesn't have `.fit`, `.predict`, `.summary`, etc. methods. It is 100% independent of the code that created it. This means that in order to make predictions with our `reloaded_SavedModel` we need to use a different method than the one used with the re-loaded Keras model.\n",
        "\n",
        "To make predictions on a batch of images with a re-loaded SavedModel we have to use:\n",
        "\n",
        "```python\n",
        "reloaded_SavedModel(image_batch, training=False)\n",
        "```\n",
        "\n",
        "This will return a tensor with the predicted label probabilities for each image in the batch. Again, since we haven't done anything new to this re-loaded SavedModel, then both the `reloaded_SavedModel` and our original `model` should be identical copies. Therefore, they should make the same predictions on the same images. Let's check that this is true:"
      ]
    },
    {
      "cell_type": "code",
      "metadata": {
        "colab_type": "code",
        "id": "ozMqD1ZoER5g",
        "colab": {
          "base_uri": "https://localhost:8080/",
          "height": 34
        },
        "outputId": "18274ff4-d61f-4ca4-838c-a249313ce429"
      },
      "source": [
        "for image_batch, label_batch in testing_batches.take(1):\n",
        "    prediction_1 = model.predict(image_batch)\n",
        "    prediction_2 = reloaded_SavedModel(image_batch, training=False).numpy()\n",
        "    difference = np.abs(prediction_1 - prediction_2)\n",
        "    print(difference.max())"
      ],
      "execution_count": 18,
      "outputs": [
        {
          "output_type": "stream",
          "text": [
            "0.0\n"
          ],
          "name": "stdout"
        }
      ]
    },
    {
      "cell_type": "markdown",
      "metadata": {
        "colab_type": "text",
        "id": "3QZNNPkYFH3D"
      },
      "source": [
        "We can also get back a full Keras model, from a TensorFlow SavedModel, by loading our SavedModel with the `tf.keras.models.load_model` function. "
      ]
    },
    {
      "cell_type": "code",
      "metadata": {
        "colab_type": "code",
        "collapsed": true,
        "id": "0BxFJcGLyMTD",
        "colab": {
          "base_uri": "https://localhost:8080/",
          "height": 434
        },
        "outputId": "d8da32d9-b149-4154-b414-0c0e8eb09832"
      },
      "source": [
        "reloaded_keras_model_from_SavedModel = tf.keras.models.load_model(savedModel_directory)\n",
        "\n",
        "reloaded_keras_model_from_SavedModel.summary()"
      ],
      "execution_count": 19,
      "outputs": [
        {
          "output_type": "stream",
          "text": [
            "Model: \"sequential\"\n",
            "_________________________________________________________________\n",
            "Layer (type)                 Output Shape              Param #   \n",
            "=================================================================\n",
            "flatten (Flatten)            (None, 784)               0         \n",
            "_________________________________________________________________\n",
            "dense (Dense)                (None, 512)               401920    \n",
            "_________________________________________________________________\n",
            "dropout (Dropout)            (None, 512)               0         \n",
            "_________________________________________________________________\n",
            "dense_1 (Dense)              (None, 256)               131328    \n",
            "_________________________________________________________________\n",
            "dropout_1 (Dropout)          (None, 256)               0         \n",
            "_________________________________________________________________\n",
            "dense_2 (Dense)              (None, 128)               32896     \n",
            "_________________________________________________________________\n",
            "dropout_2 (Dropout)          (None, 128)               0         \n",
            "_________________________________________________________________\n",
            "dense_3 (Dense)              (None, 10)                1290      \n",
            "=================================================================\n",
            "Total params: 567,434\n",
            "Trainable params: 567,434\n",
            "Non-trainable params: 0\n",
            "_________________________________________________________________\n"
          ],
          "name": "stdout"
        }
      ]
    },
    {
      "cell_type": "markdown",
      "metadata": {
        "colab_type": "text",
        "id": "FomAlrxnQnm8"
      },
      "source": [
        "## Saving Models During Training\n",
        "\n",
        "We have seen that when we train a model with a validation set, the value of the validation loss changes through the training process. Since the value of the validation loss is an indicator of how well our model will generalize to new data, it will be great if could save our model at each step of the training process and then only keep the version with the lowest validation loss. \n",
        "\n",
        "We can do this in `tf.keras` by using the following callback:\n",
        "\n",
        "```python\n",
        "tf.keras.callbacks.ModelCheckpoint('./best_model.h5', monitor='val_loss', save_best_only=True)\n",
        "```\n",
        "This callback will save the model as a Keras HDF5 file after every epoch. With the `save_best_only=True` argument, this callback will first check the validation loss of the latest model against the one previously saved. The callback will only save the latest model and overwrite the old one, if the latest model has a lower validation loss than the one previously saved. This will guarantee that will end up with the version of the model that achieved the lowest validation loss during training."
      ]
    },
    {
      "cell_type": "code",
      "metadata": {
        "colab_type": "code",
        "id": "vvsuAeUQ1WKR",
        "colab": {
          "base_uri": "https://localhost:8080/",
          "height": 766
        },
        "outputId": "73a53a61-3967-4f64-81e7-56b0326e137e"
      },
      "source": [
        "model = tf.keras.Sequential([\n",
        "        tf.keras.layers.Flatten(input_shape=(28,28,1)),\n",
        "        tf.keras.layers.Dense(256, activation = 'relu'),\n",
        "        tf.keras.layers.Dense(128, activation = 'relu'),\n",
        "        tf.keras.layers.Dense(64, activation = 'relu'),\n",
        "        tf.keras.layers.Dense(10, activation = 'softmax')\n",
        "])\n",
        "\n",
        "model.compile(optimizer='adam',\n",
        "              loss='sparse_categorical_crossentropy',\n",
        "              metrics=['accuracy'])\n",
        "\n",
        "# Stop training when there is no improvement in the validation loss for 10 consecutive epochs\n",
        "early_stopping = tf.keras.callbacks.EarlyStopping(monitor='val_loss', patience=10)\n",
        "\n",
        "# Save the Model with the lowest validation loss\n",
        "save_best = tf.keras.callbacks.ModelCheckpoint('./best_model.h5',\n",
        "                                               monitor='val_loss',\n",
        "                                               save_best_only=True)\n",
        "\n",
        "history = model.fit(training_batches,\n",
        "                    epochs = 100,\n",
        "                    validation_data=validation_batches,\n",
        "                    callbacks=[early_stopping, save_best])"
      ],
      "execution_count": 20,
      "outputs": [
        {
          "output_type": "stream",
          "text": [
            "Epoch 1/100\n",
            "657/657 [==============================] - 3s 5ms/step - loss: 0.5378 - accuracy: 0.8120 - val_loss: 0.4106 - val_accuracy: 0.8543\n",
            "Epoch 2/100\n",
            "657/657 [==============================] - 3s 5ms/step - loss: 0.3884 - accuracy: 0.8596 - val_loss: 0.4434 - val_accuracy: 0.8306\n",
            "Epoch 3/100\n",
            "657/657 [==============================] - 3s 5ms/step - loss: 0.3483 - accuracy: 0.8704 - val_loss: 0.3843 - val_accuracy: 0.8576\n",
            "Epoch 4/100\n",
            "657/657 [==============================] - 3s 5ms/step - loss: 0.3243 - accuracy: 0.8805 - val_loss: 0.3423 - val_accuracy: 0.8781\n",
            "Epoch 5/100\n",
            "657/657 [==============================] - 3s 5ms/step - loss: 0.3054 - accuracy: 0.8864 - val_loss: 0.3454 - val_accuracy: 0.8734\n",
            "Epoch 6/100\n",
            "657/657 [==============================] - 3s 5ms/step - loss: 0.2864 - accuracy: 0.8917 - val_loss: 0.3391 - val_accuracy: 0.8750\n",
            "Epoch 7/100\n",
            "657/657 [==============================] - 3s 5ms/step - loss: 0.2747 - accuracy: 0.8974 - val_loss: 0.3249 - val_accuracy: 0.8829\n",
            "Epoch 8/100\n",
            "657/657 [==============================] - 3s 5ms/step - loss: 0.2624 - accuracy: 0.9008 - val_loss: 0.3198 - val_accuracy: 0.8850\n",
            "Epoch 9/100\n",
            "657/657 [==============================] - 3s 5ms/step - loss: 0.2525 - accuracy: 0.9048 - val_loss: 0.3295 - val_accuracy: 0.8866\n",
            "Epoch 10/100\n",
            "657/657 [==============================] - 3s 5ms/step - loss: 0.2436 - accuracy: 0.9080 - val_loss: 0.3241 - val_accuracy: 0.8854\n",
            "Epoch 11/100\n",
            "657/657 [==============================] - 3s 5ms/step - loss: 0.2323 - accuracy: 0.9127 - val_loss: 0.3179 - val_accuracy: 0.8879\n",
            "Epoch 12/100\n",
            "657/657 [==============================] - 3s 5ms/step - loss: 0.2241 - accuracy: 0.9138 - val_loss: 0.3360 - val_accuracy: 0.8836\n",
            "Epoch 13/100\n",
            "657/657 [==============================] - 3s 5ms/step - loss: 0.2149 - accuracy: 0.9174 - val_loss: 0.3523 - val_accuracy: 0.8863\n",
            "Epoch 14/100\n",
            "657/657 [==============================] - 3s 5ms/step - loss: 0.2088 - accuracy: 0.9201 - val_loss: 0.3313 - val_accuracy: 0.8888\n",
            "Epoch 15/100\n",
            "657/657 [==============================] - 3s 5ms/step - loss: 0.1987 - accuracy: 0.9233 - val_loss: 0.3501 - val_accuracy: 0.8821\n",
            "Epoch 16/100\n",
            "657/657 [==============================] - 3s 5ms/step - loss: 0.1943 - accuracy: 0.9261 - val_loss: 0.3484 - val_accuracy: 0.8846\n",
            "Epoch 17/100\n",
            "657/657 [==============================] - 3s 5ms/step - loss: 0.1859 - accuracy: 0.9295 - val_loss: 0.3717 - val_accuracy: 0.8863\n",
            "Epoch 18/100\n",
            "657/657 [==============================] - 3s 5ms/step - loss: 0.1794 - accuracy: 0.9309 - val_loss: 0.3643 - val_accuracy: 0.8808\n",
            "Epoch 19/100\n",
            "657/657 [==============================] - 3s 5ms/step - loss: 0.1750 - accuracy: 0.9331 - val_loss: 0.3695 - val_accuracy: 0.8904\n",
            "Epoch 20/100\n",
            "657/657 [==============================] - 3s 5ms/step - loss: 0.1735 - accuracy: 0.9335 - val_loss: 0.3544 - val_accuracy: 0.8896\n",
            "Epoch 21/100\n",
            "657/657 [==============================] - 3s 5ms/step - loss: 0.1635 - accuracy: 0.9361 - val_loss: 0.3880 - val_accuracy: 0.8870\n"
          ],
          "name": "stdout"
        }
      ]
    },
    {
      "cell_type": "code",
      "metadata": {
        "colab_type": "code",
        "id": "sz4snGQsR2Mg",
        "colab": {}
      },
      "source": [
        ""
      ],
      "execution_count": null,
      "outputs": []
    }
  ]
}